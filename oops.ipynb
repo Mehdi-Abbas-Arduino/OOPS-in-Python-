{
 "cells": [
  {
   "cell_type": "markdown",
   "id": "2a55c18d",
   "metadata": {},
   "source": [
    "# OOP\n",
    "#object \n",
    "   #every thing in the world which has a name is known as object \n",
    "   #Methods(function , procedure ,sub routine )\n",
    "      #perform any action \n",
    "       #must be change some attribute \n",
    "        #or return somethings \n",
    "   #Attributes (properties,fields,Characterstics )\n",
    "    # store some values for a particular time\n",
    "    \n",
    "#Class\n",
    " * Blue print\n",
    " * captalize each word(class name )\n",
    " * constructor \n",
    "  * always call when we create new object "
   ]
  },
  {
   "cell_type": "markdown",
   "id": "8f56b2e9",
   "metadata": {},
   "source": [
    "# linear Programming"
   ]
  },
  {
   "cell_type": "code",
   "execution_count": 4,
   "id": "de1e34df",
   "metadata": {},
   "outputs": [],
   "source": [
    "qasim_name=\"Mehdi abbas \"\n",
    "qasim_fname=\"Muhammad aslam \"\n",
    "qasim_education=\"MSDS\"\n",
    "\n",
    "def qasim_speak():pass\n",
    "def qasim_eat():pass\n",
    "def qasim_sleep():pass\n",
    "\n",
    "asim_name=\"Muhammad Asim \"\n",
    "asim_fname=\"Muhammad aslam \"\n",
    "asim_education=\"MSDS\"\n",
    "\n",
    "def asim_speak():pass\n",
    "def asim_eat():pass\n",
    "def asim_sleep():pass\n"
   ]
  },
  {
   "cell_type": "markdown",
   "id": "829b5c84",
   "metadata": {},
   "source": [
    "#oop\n",
    "*compress code \n",
    "*less computing power / less storage consume \n",
    "*code management too much simple "
   ]
  },
  {
   "cell_type": "markdown",
   "id": "8ce83f88",
   "metadata": {},
   "source": [
    "#Class\n",
    " * Blue print\n",
    " * captalize each word(class name )  ' class Class():pass  '\n",
    " * constructor (method)\n",
    "  * always call when we create new object \n",
    "  * python\n",
    "  *def __init__(self) :pass\n",
    "  *first arguement :\n",
    "      * first arguement could be name \n",
    "      *always keep this during creating time \n",
    "      *but always ignore during call\n",
    "  *all attribute should be written in constructor body \n",
    "   *self.attribute_name\n",
    " * destructive (method)\n",
    "  * always call when we delete object\n",
    "  *Method\n",
    "  *Attribute \n",
    "  *class variable"
   ]
  },
  {
   "cell_type": "markdown",
   "id": "395aab59",
   "metadata": {},
   "source": [
    "# class variable\n",
    "*always create in class body \n",
    "*calling Classname.variable_name\n",
    "*always same value"
   ]
  },
  {
   "cell_type": "code",
   "execution_count": 36,
   "id": "bf5e5657",
   "metadata": {},
   "outputs": [],
   "source": [
    "class Student (): #class\n",
    "      \n",
    "    counter = 0\n",
    "    subject = \"Artifical intelligence\"\n",
    "    def __init__(self,sid,sname):#constructor \n",
    "        self.id = sid #self.attribute_nmae=constructor_local variable \n",
    "        self.name = sname #attribute \n",
    "        self.education = None #attribute\n",
    "        self.address = None #attribute\n",
    "        self.age = None #attribute\n",
    "        self.user = sname\n",
    "        self.password = \"123\"\n",
    "        Student.counter += 1\n",
    "    \n",
    "    def login(self,user,pws):#method \n",
    "        if self.user == user and self.password == pws:\n",
    "            return \"valid user\"\n",
    "        else:\n",
    "            return \"not valid user\"\n",
    "        \n",
    "    def display_information(self):\n",
    "        cards=f\"\"\"\n",
    "        PiAIC Student card\n",
    "        Registration No: {self.id}\n",
    "        Name:{self.name}\n",
    "        Education : {self.education}\n",
    "        \"\"\"\n",
    "       \n",
    "    \n",
    "        return cards"
   ]
  },
  {
   "cell_type": "code",
   "execution_count": 43,
   "id": "06c468a2",
   "metadata": {},
   "outputs": [
    {
     "name": "stdout",
     "output_type": "stream",
     "text": [
      "2 2 Artifical intelligence\n"
     ]
    }
   ],
   "source": [
    "s1= Student (1,\"Muhammad qasim\")\n",
    "print(Student.counter,s1.counter,Student.subject)\n",
    "s2= Student (2,\"mehdi abbas \")\n",
    "s3= Student (3,\"Naqi Noorali \")\n",
    "\n",
    "#s1,s2,s3 objects (s1,s1 and s3 are also class instance)"
   ]
  },
  {
   "cell_type": "code",
   "execution_count": 18,
   "id": "232c17da",
   "metadata": {},
   "outputs": [
    {
     "name": "stdout",
     "output_type": "stream",
     "text": [
      "Muhammad qasim 1\n",
      "mehdi abbas  2\n",
      "Naqi Noorali  3\n"
     ]
    }
   ],
   "source": [
    "print(s1.name, s1.id )\n",
    "print(s2.name, s2.id )\n",
    "print(s3.name, s3.id )"
   ]
  },
  {
   "cell_type": "code",
   "execution_count": 26,
   "id": "e1d549bb",
   "metadata": {},
   "outputs": [
    {
     "data": {
      "text/plain": [
       "'not valid user'"
      ]
     },
     "execution_count": 26,
     "metadata": {},
     "output_type": "execute_result"
    }
   ],
   "source": [
    "s1.login(\"mehdi\", \"123\")"
   ]
  },
  {
   "cell_type": "code",
   "execution_count": 21,
   "id": "fb3e4ae9",
   "metadata": {},
   "outputs": [
    {
     "name": "stdout",
     "output_type": "stream",
     "text": [
      "\n",
      "        PiAIC Student card\n",
      "        Registration No: 1\n",
      "        Name:Muhammad qasim\n",
      "        Education : None\n",
      "        \n"
     ]
    }
   ],
   "source": [
    "print(s1.display_information())"
   ]
  },
  {
   "cell_type": "code",
   "execution_count": 23,
   "id": "96005bf7",
   "metadata": {},
   "outputs": [
    {
     "data": {
      "text/plain": [
       "'not valid user'"
      ]
     },
     "execution_count": 23,
     "metadata": {},
     "output_type": "execute_result"
    }
   ],
   "source": [
    "s2.login(\"mehdi abbas\",\"123\")"
   ]
  },
  {
   "cell_type": "code",
   "execution_count": 24,
   "id": "8c1c1378",
   "metadata": {},
   "outputs": [
    {
     "data": {
      "text/plain": [
       "['__class__',\n",
       " '__delattr__',\n",
       " '__dict__',\n",
       " '__dir__',\n",
       " '__doc__',\n",
       " '__eq__',\n",
       " '__format__',\n",
       " '__ge__',\n",
       " '__getattribute__',\n",
       " '__gt__',\n",
       " '__hash__',\n",
       " '__init__',\n",
       " '__init_subclass__',\n",
       " '__le__',\n",
       " '__lt__',\n",
       " '__module__',\n",
       " '__ne__',\n",
       " '__new__',\n",
       " '__reduce__',\n",
       " '__reduce_ex__',\n",
       " '__repr__',\n",
       " '__setattr__',\n",
       " '__sizeof__',\n",
       " '__str__',\n",
       " '__subclasshook__',\n",
       " '__weakref__',\n",
       " 'display_information',\n",
       " 'login']"
      ]
     },
     "execution_count": 24,
     "metadata": {},
     "output_type": "execute_result"
    }
   ],
   "source": [
    "dir(Student)"
   ]
  },
  {
   "cell_type": "code",
   "execution_count": 30,
   "id": "8d26abd4",
   "metadata": {},
   "outputs": [
    {
     "name": "stdout",
     "output_type": "stream",
     "text": [
      "['address', 'age', 'education', 'id', 'login', 'name', 'password', 'user']\n",
      "['address', 'age', 'education', 'id', 'login', 'name', 'password', 'user']\n",
      "['address', 'age', 'education', 'id', 'login', 'name', 'password', 'user']\n"
     ]
    }
   ],
   "source": [
    "print ([i for i in dir(s1) if \"_\" not in i])\n",
    "print ([i for i in dir(s2) if \"_\" not in i])\n",
    "print ([i for i in dir(s3) if \"_\" not in i])"
   ]
  },
  {
   "cell_type": "code",
   "execution_count": 39,
   "id": "af62855a",
   "metadata": {},
   "outputs": [
    {
     "name": "stdout",
     "output_type": "stream",
     "text": [
      "0\n"
     ]
    }
   ],
   "source": [
    "s1.login(\"Muhammad Qasim\",\"123\")\n",
    "print(Student.counter)"
   ]
  },
  {
   "cell_type": "code",
   "execution_count": 38,
   "id": "360d687f",
   "metadata": {},
   "outputs": [
    {
     "name": "stdout",
     "output_type": "stream",
     "text": [
      "0\n"
     ]
    }
   ],
   "source": [
    "print(Student.counter)"
   ]
  },
  {
   "cell_type": "code",
   "execution_count": 41,
   "id": "291fb97d",
   "metadata": {},
   "outputs": [
    {
     "name": "stdout",
     "output_type": "stream",
     "text": [
      "Artifical intelligence\n"
     ]
    }
   ],
   "source": [
    "print(Student.subject)"
   ]
  },
  {
   "cell_type": "code",
   "execution_count": null,
   "id": "7c9ec9ab",
   "metadata": {},
   "outputs": [],
   "source": []
  }
 ],
 "metadata": {
  "kernelspec": {
   "display_name": "Python 3 (ipykernel)",
   "language": "python",
   "name": "python3"
  },
  "language_info": {
   "codemirror_mode": {
    "name": "ipython",
    "version": 3
   },
   "file_extension": ".py",
   "mimetype": "text/x-python",
   "name": "python",
   "nbconvert_exporter": "python",
   "pygments_lexer": "ipython3",
   "version": "3.9.12"
  }
 },
 "nbformat": 4,
 "nbformat_minor": 5
}
